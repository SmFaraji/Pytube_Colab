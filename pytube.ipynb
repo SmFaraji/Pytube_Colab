{
  "cells": [
    {
      "cell_type": "markdown",
      "metadata": {
        "id": "view-in-github",
        "colab_type": "text"
      },
      "source": [
        "<a href=\"https://colab.research.google.com/github/SmFaraji/Pytube_Colab/blob/main/pytube.ipynb\" target=\"_parent\"><img src=\"https://colab.research.google.com/assets/colab-badge.svg\" alt=\"Open In Colab\"/></a>"
      ]
    },
    {
      "cell_type": "markdown",
      "source": [
        "# ***Add Python library For Youtube Downloading:***"
      ],
      "metadata": {
        "id": "-xtyn4wi5Wz2"
      }
    },
    {
      "cell_type": "code",
      "execution_count": 13,
      "metadata": {
        "colab": {
          "base_uri": "https://localhost:8080/"
        },
        "id": "UyQ4faS2PshR",
        "outputId": "d1f9adff-93e5-4b88-cbe6-635a49746568"
      },
      "outputs": [
        {
          "output_type": "stream",
          "name": "stdout",
          "text": [
            "Requirement already satisfied: pytube in /usr/local/lib/python3.10/dist-packages (15.0.0)\n"
          ]
        }
      ],
      "source": [
        "pip install pytube"
      ]
    },
    {
      "cell_type": "markdown",
      "source": [
        "# ***Connect To Your Google Drive If You Want To Set It As Desired Path***"
      ],
      "metadata": {
        "id": "XxaMSE1d6Ket"
      }
    },
    {
      "cell_type": "code",
      "source": [
        "from google.colab import drive\n",
        "drive.mount('/content/drive')"
      ],
      "metadata": {
        "colab": {
          "base_uri": "https://localhost:8080/"
        },
        "id": "HzSTqguY6IHX",
        "outputId": "b3d501c6-4688-4d69-e3d0-964644310f30"
      },
      "execution_count": 10,
      "outputs": [
        {
          "output_type": "stream",
          "name": "stdout",
          "text": [
            "Drive already mounted at /content/drive; to attempt to forcibly remount, call drive.mount(\"/content/drive\", force_remount=True).\n"
          ]
        }
      ]
    },
    {
      "cell_type": "markdown",
      "source": [
        "# **Run Below Code and Paste Your Youtube link, Desired Quality and Path**"
      ],
      "metadata": {
        "id": "oLZtFefv5r2m"
      }
    },
    {
      "cell_type": "code",
      "execution_count": 12,
      "metadata": {
        "id": "M2oDO7QVrxMx",
        "colab": {
          "base_uri": "https://localhost:8080/"
        },
        "outputId": "e9b8be1d-83a3-4e74-a447-f7fec6a07ea1"
      },
      "outputs": [
        {
          "output_type": "stream",
          "name": "stdout",
          "text": [
            "Enter Youtube Link like: https://youtu.be/PkkV1vLHUvQ we will Download it:\n",
            "Enter link : https://youtu.be/PkkV1vLHUvQ\n",
            "-----------------------------------------\n",
            "\n",
            "# resolution e.g.: 480p 720p .. \n",
            "Enter Video Quality: \n",
            "-----------------------------------------\n",
            "\n",
            "You can choose path or let it download in default folder. example: /content/drive/MyDrive/youtube-folder\n",
            "Enter Path:\n",
            "\n",
            "trying to download <BUGATTI Chiron 0-400-0 km/h in 42 seconds – A WORLD RECORD #IAA2017> in best quality, please be patient\n",
            "\n",
            "finish :) have a fun.\n",
            "written by @sm_faraji.\n"
          ]
        }
      ],
      "source": [
        "#pip install pytube\n",
        "from pytube import YouTube\n",
        "\n",
        "print(\"Enter Youtube Link like: https://youtu.be/PkkV1vLHUvQ we will Download it:\")\n",
        "yt = YouTube(input(\"Enter link : \"))\n",
        "print(\"-----------------------------------------\\n\")\n",
        "\n",
        "print(\"# resolution e.g.: 480p 720p .. \")\n",
        "quality = input(\"Enter Video Quality: \")\n",
        "print(\"-----------------------------------------\\n\")\n",
        "\n",
        "print(\"You can choose path or let it download in default folder. example: /content/drive/MyDrive/youtube-folder\")\n",
        "path = input(\"Enter Path:\\n\")\n",
        "\n",
        "\n",
        "try:\n",
        "  if (quality == ''):\n",
        "        video = yt.streams.get_highest_resolution()\n",
        "        print(\"trying to download <\" + str(yt.title) + \"> in best quality, please be patient\\n\")\n",
        "\n",
        "  else:\n",
        "        video = yt.streams.get_by_resolution(quality)\n",
        "        print(\"trying to download <\" + str(yt.title) + \"> in \" + str(quality) + \" quality, please be patient\\n\")\n",
        "\n",
        "  try:\n",
        "    if (path == '0'):\n",
        "          video.download(\"./Youtube_Downloads\")\n",
        "    else:\n",
        "          video.download(path)\n",
        "    print(\"finish :) have a fun.\")\n",
        "  except:\n",
        "    video.download()\n",
        "\n",
        "except:\n",
        "  print(\"Warning------------------------------------Warning\")\n",
        "  print(\"forgive me there is a issue.\")\n",
        "  print(\"maybe this quality doesn't exist or problem in your path\")\n",
        "  print(\"let it in default quality or path.\")\n",
        "  print(\"Warning------------------------------------Warning\")\n",
        "\n",
        "print(\"written by @sm_faraji.\")"
      ]
    }
  ],
  "metadata": {
    "colab": {
      "provenance": [],
      "mount_file_id": "1BkzB3a6r-PC5v-cq5XsKrHYDtELZ4tMx",
      "authorship_tag": "ABX9TyOn5Rd1TFbsEQ3m7ppfuykZ",
      "include_colab_link": true
    },
    "kernelspec": {
      "display_name": "Python 3",
      "name": "python3"
    },
    "language_info": {
      "name": "python"
    }
  },
  "nbformat": 4,
  "nbformat_minor": 0
}